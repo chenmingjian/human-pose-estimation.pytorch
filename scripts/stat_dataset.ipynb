{
 "metadata": {
  "language_info": {
   "codemirror_mode": {
    "name": "ipython",
    "version": 3
   },
   "file_extension": ".py",
   "mimetype": "text/x-python",
   "name": "python",
   "nbconvert_exporter": "python",
   "pygments_lexer": "ipython3",
   "version": "3.8.3-final"
  },
  "orig_nbformat": 2,
  "kernelspec": {
   "name": "python3",
   "display_name": "Python 3"
  }
 },
 "nbformat": 4,
 "nbformat_minor": 2,
 "cells": [
  {
   "cell_type": "code",
   "execution_count": 1,
   "metadata": {},
   "outputs": [],
   "source": [
    "import json"
   ]
  },
  {
   "cell_type": "code",
   "execution_count": 8,
   "metadata": {},
   "outputs": [
    {
     "output_type": "execute_result",
     "data": {
      "text/plain": [
       "0.5090454658195486"
      ]
     },
     "metadata": {},
     "execution_count": 8
    }
   ],
   "source": [
    "json_path = \"/home/chen/workshop/thesis/human-pose-estimation.pytorch/data/crowdpose/annotations/crowdpose_train.json\"\n",
    "j = json.load(open(json_path))\n",
    "\n",
    "num_vis = 0\n",
    "num_unvis = 0\n",
    "num_all = 0\n",
    "count_list = [[0, 0, 0] for i in range(14)]\n",
    "for item in j['annotations']:\n",
    "    kps = item['keypoints']\n",
    "    for idx, start in enumerate (range(0,14*3,3)):\n",
    "        i, j, v = kps[start:start+3]\n",
    "        num_all += 1\n",
    "        count_list[idx][2] += 1\n",
    "        if v == 1:\n",
    "            count_list[idx][1] += 1\n",
    "            num_unvis += 1\n",
    "        elif v == 2:\n",
    "            count_list[idx][0] += 1\n",
    "            num_vis += 1\n",
    "num_vis / num_unvis\n"
   ]
  },
  {
   "cell_type": "code",
   "execution_count": 12,
   "metadata": {},
   "outputs": [
    {
     "output_type": "stream",
     "name": "stdout",
     "text": [
      "1.0179761540813208\n0.980697980160153\n0.7190345249007027\n0.7178295509415741\n0.676334620986638\n0.6989186112692088\n0.6554277699859747\n0.637870083959346\n0.6233540026475302\n0.6203928645797182\n0.5485791395459597\n0.5451539248878041\n0.0\n0.0\n"
     ]
    }
   ],
   "source": [
    "for v, uv, a in count_list:\n",
    "    print(v / uv)"
   ]
  },
  {
   "cell_type": "code",
   "execution_count": 10,
   "metadata": {},
   "outputs": [
    {
     "output_type": "execute_result",
     "data": {
      "text/plain": [
       "0.22173373933740667"
      ]
     },
     "metadata": {},
     "execution_count": 10
    }
   ],
   "source": [
    "num_vis / num_all"
   ]
  },
  {
   "cell_type": "code",
   "execution_count": 11,
   "metadata": {},
   "outputs": [
    {
     "output_type": "execute_result",
     "data": {
      "text/plain": [
       "0.43558729863239565"
      ]
     },
     "metadata": {},
     "execution_count": 11
    }
   ],
   "source": [
    "num_unvis / num_all"
   ]
  },
  {
   "cell_type": "code",
   "execution_count": null,
   "metadata": {},
   "outputs": [],
   "source": []
  }
 ]
}