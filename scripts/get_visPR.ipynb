{
 "metadata": {
  "language_info": {
   "codemirror_mode": {
    "name": "ipython",
    "version": 3
   },
   "file_extension": ".py",
   "mimetype": "text/x-python",
   "name": "python",
   "nbconvert_exporter": "python",
   "pygments_lexer": "ipython3",
   "version": "3.6.12-final"
  },
  "orig_nbformat": 2,
  "kernelspec": {
   "name": "python3",
   "display_name": "Python 3"
  }
 },
 "nbformat": 4,
 "nbformat_minor": 2,
 "cells": [
  {
   "cell_type": "code",
   "execution_count": 1,
   "metadata": {},
   "outputs": [],
   "source": [
    "from crowdposetools.coco import COCO\n",
    "from crowdposetools.cocoeval import COCOeval"
   ]
  },
  {
   "cell_type": "code",
   "execution_count": 2,
   "metadata": {},
   "outputs": [
    {
     "output_type": "stream",
     "name": "stdout",
     "text": [
      "loading annotations into memory...\n",
      "Done (t=0.38s)\n",
      "creating index...\n",
      "index created!\n",
      "Loading and preparing results...\n",
      "DONE (t=3.30s)\n",
      "creating index...\n",
      "index created!\n"
     ]
    }
   ],
   "source": [
    "gt_file = \"/mnt/disk3/chen/workshop/thesis/human-pose-estimation.pytorch/data/crowdpose/annotations/crowdpose_test_vis.json\"\n",
    "res_file = \"/mnt/disk3/chen/workshop/thesis/human-pose-estimation.pytorch/output/crowdpose/pose_resnet_del_unvis_1x1_50/del_unvis_1x1_256x192_d256x3_adam_lr1e-3/results/keypoints_test_results.json\"\n",
    "\n",
    "coco = COCO(gt_file)\n",
    "coco_dt = coco.loadRes(res_file)\n",
    "coco_eval = COCOeval(coco, coco_dt, 'keypoints')\n",
    "coco_eval.params.useSegm = None\n"
   ]
  },
  {
   "cell_type": "code",
   "execution_count": 3,
   "metadata": {},
   "outputs": [
    {
     "output_type": "stream",
     "name": "stdout",
     "text": [
      "Running per image evaluation...\n",
      "Evaluate annotation type *keypoints*\n",
      "DONE (t=25.89s).\n"
     ]
    }
   ],
   "source": [
    "coco_eval.evaluate()\n"
   ]
  },
  {
   "cell_type": "code",
   "execution_count": 4,
   "metadata": {},
   "outputs": [
    {
     "output_type": "stream",
     "name": "stdout",
     "text": [
      "Accumulating evaluation results...\n",
      "DONE (t=0.59s).\n"
     ]
    }
   ],
   "source": [
    "coco_eval.accumulate()\n"
   ]
  },
  {
   "cell_type": "code",
   "execution_count": 5,
   "metadata": {},
   "outputs": [
    {
     "output_type": "stream",
     "name": "stdout",
     "text": [
      " Average Precision  (AP) @[ IoU=0.50:0.95 | area=   all | maxDets= 20 ] = 0.627\n",
      " Average Precision  (AP) @[ IoU=0.50      | area=   all | maxDets= 20 ] = 0.799\n",
      " Average Precision  (AP) @[ IoU=0.75      | area=   all | maxDets= 20 ] = 0.674\n",
      " Average Recall     (AR) @[ IoU=0.50:0.95 | area=   all | maxDets= 20 ] = 0.785\n",
      " Average Recall     (AR) @[ IoU=0.50      | area=   all | maxDets= 20 ] = 0.905\n",
      " Average Recall     (AR) @[ IoU=0.75      | area=   all | maxDets= 20 ] = 0.815\n",
      " Average Recall     (AR) @[ IoU=0.50:0.95 | type=  easy | maxDets= 20 ] = 0.669\n",
      " Average Recall     (AR) @[ IoU=0.50:0.95 | type=medium | maxDets= 20 ] = 0.635\n",
      " Average Recall     (AR) @[ IoU=0.50:0.95 | type=  hard | maxDets= 20 ] = 0.565\n"
     ]
    }
   ],
   "source": [
    "coco_eval.summarize()"
   ]
  },
  {
   "cell_type": "code",
   "execution_count": null,
   "metadata": {},
   "outputs": [],
   "source": []
  }
 ]
}