{
 "metadata": {
  "language_info": {
   "codemirror_mode": {
    "name": "ipython",
    "version": 3
   },
   "file_extension": ".py",
   "mimetype": "text/x-python",
   "name": "python",
   "nbconvert_exporter": "python",
   "pygments_lexer": "ipython3",
   "version": "3.8.5-final"
  },
  "orig_nbformat": 2,
  "kernelspec": {
   "name": "python3",
   "display_name": "Python 3.8.5 64-bit ('SimpleBaseline': conda)",
   "metadata": {
    "interpreter": {
     "hash": "2f68e0583d9a31ab59d7b8e96d952146427e1c76a6746c795c7abd039813edfe"
    }
   }
  }
 },
 "nbformat": 4,
 "nbformat_minor": 2,
 "cells": [
  {
   "cell_type": "code",
   "execution_count": 1,
   "metadata": {},
   "outputs": [],
   "source": [
    "from crowdposetools.coco import COCO\n",
    "from crowdposetools.cocoeval import COCOeval"
   ]
  },
  {
   "cell_type": "code",
   "execution_count": 3,
   "metadata": {},
   "outputs": [
    {
     "output_type": "stream",
     "name": "stdout",
     "text": [
      "loading annotations into memory...\n",
      "Done (t=0.45s)\n",
      "creating index...\n",
      "index created!\n",
      "Loading and preparing results...\n",
      "DONE (t=3.25s)\n",
      "creating index...\n",
      "index created!\n",
      "Running per image evaluation...\n",
      "Evaluate annotation type *keypoints*\n",
      "DONE (t=21.65s).\n",
      "Accumulating evaluation results...\n",
      "DONE (t=0.46s).\n",
      " Average Precision  (AP) @[ IoU=0.50:0.95 | area=   all | maxDets= 20 ] = 0.579\n",
      " Average Precision  (AP) @[ IoU=0.50      | area=   all | maxDets= 20 ] = 0.818\n",
      " Average Precision  (AP) @[ IoU=0.75      | area=   all | maxDets= 20 ] = 0.626\n",
      " Average Recall     (AR) @[ IoU=0.50:0.95 | area=   all | maxDets= 20 ] = 0.655\n",
      " Average Recall     (AR) @[ IoU=0.50      | area=   all | maxDets= 20 ] = 0.883\n",
      " Average Recall     (AR) @[ IoU=0.75      | area=   all | maxDets= 20 ] = 0.702\n",
      " Average Recall     (AR) @[ IoU=0.50:0.95 | type=  easy | maxDets= 20 ] = 0.689\n",
      " Average Recall     (AR) @[ IoU=0.50:0.95 | type=medium | maxDets= 20 ] = 0.591\n",
      " Average Recall     (AR) @[ IoU=0.50:0.95 | type=  hard | maxDets= 20 ] = 0.450\n"
     ]
    }
   ],
   "source": [
    "prefix = 'crowdpose'\n",
    "gt_file = os.path.join('/home/chen/workshop/thesis/human-pose-estimation.pytorch/data/crowdpose', \n",
    "    'annotations',prefix + '_' + 'test' + '.json')\n",
    "res_file = \"/home/chen/workshop/thesis/human-pose-estimation.pytorch/output/crowdpose/OccNetCB_50/OccNetCB_256x192_d256x3_adam_lr1e-3/results/keypoints_val_results.json\"\n",
    "\n",
    "coco = COCO(gt_file)\n",
    "coco_dt = coco.loadRes(res_file)\n",
    "coco_eval = COCOeval(coco, coco_dt, 'keypoints')\n",
    "coco_eval.params.useSegm = None\n",
    "coco_eval.evaluate()\n",
    "coco_eval.accumulate()\n",
    "coco_eval.summarize()"
   ]
  },
  {
   "cell_type": "code",
   "execution_count": null,
   "metadata": {},
   "outputs": [],
   "source": []
  }
 ]
}