{
 "metadata": {
  "language_info": {
   "codemirror_mode": {
    "name": "ipython",
    "version": 3
   },
   "file_extension": ".py",
   "mimetype": "text/x-python",
   "name": "python",
   "nbconvert_exporter": "python",
   "pygments_lexer": "ipython3",
   "version": "3.6.12-final"
  },
  "orig_nbformat": 2,
  "kernelspec": {
   "name": "python3",
   "display_name": "Python 3"
  }
 },
 "nbformat": 4,
 "nbformat_minor": 2,
 "cells": [
  {
   "cell_type": "code",
   "execution_count": 1,
   "metadata": {},
   "outputs": [],
   "source": [
    "import json"
   ]
  },
  {
   "cell_type": "code",
   "execution_count": 4,
   "metadata": {},
   "outputs": [
    {
     "output_type": "execute_result",
     "data": {
      "text/plain": [
       "'/mnt/disk3/chen/workshop/thesis/human-pose-estimation.pytorch/data/crowdpose/annotations/crowdpose_test.json'"
      ]
     },
     "metadata": {},
     "execution_count": 4
    }
   ],
   "source": [
    "src_path = \"/mnt/disk3/chen/workshop/thesis/human-pose-estimation.pytorch/data/crowdpose/annotations/crowdpose_test.json\"\n",
    "src_path"
   ]
  },
  {
   "cell_type": "code",
   "execution_count": 5,
   "metadata": {},
   "outputs": [
    {
     "output_type": "execute_result",
     "data": {
      "text/plain": [
       "'/mnt/disk3/chen/workshop/thesis/human-pose-estimation.pytorch/data/crowdpose/annotations/crowdpose_test_vis.json'"
      ]
     },
     "metadata": {},
     "execution_count": 5
    }
   ],
   "source": [
    "dist_path = \"/mnt/disk3/chen/workshop/thesis/human-pose-estimation.pytorch/data/crowdpose/annotations/crowdpose_test_vis.json\"\n",
    "dist_path"
   ]
  },
  {
   "cell_type": "code",
   "execution_count": 6,
   "metadata": {
    "tags": []
   },
   "outputs": [],
   "source": [
    "src_json = json.load(open(src_path))\n",
    "for item in src_json['annotations']:\n",
    "    kp = item['keypoints']\n",
    "    for i in range(0, len(kp), 3):\n",
    "        x,y,v = kp[i:i+3]\n",
    "        if v == 1:\n",
    "            kp[i:i+3] = [0, 0, 0]"
   ]
  },
  {
   "cell_type": "code",
   "execution_count": 7,
   "metadata": {},
   "outputs": [],
   "source": [
    "json.dump(src_json, open(dist_path, 'w'))"
   ]
  },
  {
   "cell_type": "code",
   "execution_count": null,
   "metadata": {},
   "outputs": [],
   "source": []
  }
 ]
}